{
 "cells": [
  {
   "cell_type": "markdown",
   "id": "6fabc1d8-7036-4478-8ac5-fd9c8a07e366",
   "metadata": {},
   "source": [
    "### Projeto de previsão de ocorrência de sintomas ###\n"
   ]
  },
  {
   "cell_type": "markdown",
   "id": "0d70f28f-0a5a-4aef-a7a2-1131148acb99",
   "metadata": {},
   "source": [
    "O início dos sintomas em pacientes com fibrose pulmonar é desconhecido. No entanto, determinar este início é crucial para compreender a progressão da doença, pois você pode ajudar a identificar se a fibrose pulmonar é progressiva ou se você se encontra em um estádio avançado. Uma das medidas mais comuns em pacientes com doenças pulmonares crônicas é a avaliação anual da capacidade vital forçada (CVF), que fornece informações importantes sobre a progressão da doença, permitindo determinar se o paciente está melhorando ou melhorando.\n",
    "\n",
    "O objetivo deste projeto foi desenvolver um modelo de regressão de efeitos mistos capaz de prever o início dos sintomas em pacientes com fibrose pulmonar. Para isso, utilizamos a CVF como referência para o declínio da função pulmonar ao longo do tempo. A partir desta medida, buscamos estimar em que momento um paciente tinha uma CVF inicial de 100 (valor considerado normal) para poder determinar o tempo aproximado em que os sintomas começaram. Este momento foi definido como tempo zero no dia em que se realizou a biópsia pulmonar, o que permitiu calcular o tempo transcorrido até que o paciente alcançasse uma CVF de 100.\n",
    "\n",
    "Esta abordagem não oferece apenas uma estimativa do início dos sintomas, embora também contribua para a compreensão da dinâmica da doença, o que pode ser útil para melhorar o manejo clínico e as decisões terapêuticas em pacientes com fibrose pulmonar.\n",
    "\n",
    "\n",
    "A fórmula matemática do modelo de regressão de efeitos mistos com a parte aleatória incluída pode ser expressa como:\n",
    "\n",
    "***FVC\n",
    "𝑖\n",
    "𝑗 \n",
    "= 𝛽0\n",
    "+\n",
    "𝛽1\n",
    "⋅\n",
    "MESES\n",
    "𝑖\n",
    "𝑗\n",
    "+\n",
    "𝑢\n",
    "0\n",
    "𝑖\n",
    "+\n",
    "𝜖\n",
    "𝑖\n",
    "𝑗\n",
    "FVC \n",
    "ij\n",
    "​\n",
    " =β \n",
    "0\n",
    "​\n",
    " +β \n",
    "1\n",
    "​\n",
    " ⋅MESES \n",
    "ij\n",
    "​\n",
    " +u \n",
    "0i\n",
    "​\n",
    " +ϵ \n",
    "ij\n",
    "​***\n",
    " \n",
    "Componentes:\n",
    "\n",
    "***Parte fixa:***\n",
    "\n",
    "𝛽0\n",
    ":Intercepto global do modelo (valor médio inicial de FVC para todos os pacientes quando MESES = 0).\n",
    "\n",
    "𝛽1\n",
    ":Inclinação global que representa a relação entre MESES e FVC.\n",
    "\n",
    "***Parte aleatória:***\n",
    "\n",
    "𝑢0𝑖​\n",
    ":Efeito aleatório do paciente 𝑖, que captura as diferenças individuais no intercepto.\n",
    "\n",
    "𝜖𝑖𝑗​\n",
    ":Erro residual associado à observação 𝑗j dentro do paciente 𝑖\n",
    "\n",
    "***Índices:***\n",
    "\n",
    "𝑖\n",
    ":Identifica o paciente (grupo).\n",
    "\n",
    "𝑗\n",
    ":Identifica a medição específica dentro do paciente 𝑖\n",
    "\n",
    "Esse modelo permite que cada paciente tenha seu próprio intercepto (𝛽0 + 𝑢0𝑖), mas compartilha a mesma inclinação global (b1) para a relação entre MESES e FVC. entre MESES e FVC."
   ]
  },
  {
   "cell_type": "code",
   "execution_count": 100,
   "id": "da35b789-ef2c-4835-96d8-33e6f8adf53c",
   "metadata": {},
   "outputs": [],
   "source": [
    "#Bibliotecas a utilizar \n",
    "import pandas as pd\n",
    "import numpy as np\n",
    "from sklearn.impute import SimpleImputer\n",
    "import statsmodels.api as sm\n",
    "import statsmodels.formula.api as smf\n",
    "from sklearn.model_selection import train_test_split\n",
    "from sklearn.model_selection import KFold\n",
    "from sklearn.model_selection import GroupKFold\n",
    "import matplotlib.pyplot as plt"
   ]
  },
  {
   "cell_type": "markdown",
   "id": "b4d83ed2-6d63-4cc2-a24d-8f666ecac064",
   "metadata": {},
   "source": [
    "***Etapa 1: Carregar o Arquivo e verificar os dados***   "
   ]
  },
  {
   "cell_type": "code",
   "execution_count": 61,
   "id": "a8ffcfa8-abac-444c-b49b-c29e04ddd7fd",
   "metadata": {},
   "outputs": [
    {
     "name": "stdout",
     "output_type": "stream",
     "text": [
      "   PACIENTE  FVC1  MESESFVC1  FVC2  MESESFVC2  FVC3  MESESFVC3  FVC4  \\\n",
      "0         2  48.0        161  35.0      172.0  38.0      205.0  38.0   \n",
      "1         3  39.0        122  38.0      130.0  35.0      145.0  36.0   \n",
      "2         4  54.0        132  44.7      141.0  48.0      152.0   NaN   \n",
      "3         7  57.0         86  57.0       95.0  54.0      107.0  56.0   \n",
      "4         8  79.0         46  75.0       60.0  63.0        NaN  61.0   \n",
      "\n",
      "   MESESFVC4  \n",
      "0      210.0  \n",
      "1      152.0  \n",
      "2        NaN  \n",
      "3      113.0  \n",
      "4       69.0  \n"
     ]
    }
   ],
   "source": [
    "# Carregar o arquivo \n",
    "DPI = 'C:/Users/Herrera/Documents/Python excels/TABELADPI.xlsx'\n",
    "df = pd.read_excel(DPI)\n",
    "df.columns = df.columns.str.strip() #Para limpar espaços dos nomes das colunas\n",
    "# Imprimir as primeiras 5 linhas  \n",
    "print(df.head())  \n"
   ]
  },
  {
   "cell_type": "code",
   "execution_count": 63,
   "id": "df2b08c8-179c-433c-8417-d82b8cfcc4bd",
   "metadata": {},
   "outputs": [
    {
     "name": "stdout",
     "output_type": "stream",
     "text": [
      "Nomes e tipos de colunas\n",
      "Index(['PACIENTE', 'FVC1', 'MESESFVC1', 'FVC2', 'MESESFVC2', 'FVC3',\n",
      "       'MESESFVC3', 'FVC4', 'MESESFVC4'],\n",
      "      dtype='object')\n",
      "<class 'pandas.core.indexes.base.Index'>\n",
      "Tipos de dados das colunas:\n",
      "PACIENTE       int64\n",
      "FVC1         float64\n",
      "MESESFVC1      int64\n",
      "FVC2         float64\n",
      "MESESFVC2    float64\n",
      "FVC3         float64\n",
      "MESESFVC3    float64\n",
      "FVC4         float64\n",
      "MESESFVC4    float64\n",
      "dtype: object\n"
     ]
    }
   ],
   "source": [
    "#Imprimir os nomes das colunas\n",
    "print(\"Nomes e tipos de colunas\")\n",
    "print(df.columns)\n",
    "print(type(df.columns))\n",
    "\n",
    "# Mostrar os tipos de dados das colunas\n",
    "print(\"Tipos de dados das colunas:\")\n",
    "print(df.dtypes)"
   ]
  },
  {
   "cell_type": "markdown",
   "id": "96d406b0-d93d-41f5-8fe4-fa12a606ab78",
   "metadata": {},
   "source": [
    "***Etapa 2: Imputar dados Faltantes*** "
   ]
  },
  {
   "cell_type": "code",
   "execution_count": 65,
   "id": "aacd2042-92e6-43c4-b154-48f9a6fa6126",
   "metadata": {},
   "outputs": [
    {
     "name": "stdout",
     "output_type": "stream",
     "text": [
      "\n",
      "Verificação de dados depois a imputação:\n",
      "FVC2         0\n",
      "MESESFVC2    0\n",
      "FVC3         0\n",
      "MESESFVC3    0\n",
      "FVC4         0\n",
      "MESESFVC4    0\n",
      "dtype: int64\n",
      "\n",
      "Visualização do DataFrame:\n",
      "   PACIENTE  FVC1  MESESFVC1  FVC2  MESESFVC2  FVC3   MESESFVC3       FVC4  \\\n",
      "0         2  48.0      161.0  35.0      172.0  38.0  205.000000  38.000000   \n",
      "1         3  39.0      122.0  38.0      130.0  35.0  145.000000  36.000000   \n",
      "2         4  54.0      132.0  44.7      141.0  48.0  152.000000  66.316875   \n",
      "3         7  57.0       86.0  57.0       95.0  54.0  107.000000  56.000000   \n",
      "4         8  79.0       46.0  75.0       60.0  63.0   26.930233  61.000000   \n",
      "\n",
      "   MESESFVC4  \n",
      "0     210.00  \n",
      "1     152.00  \n",
      "2      36.25  \n",
      "3     113.00  \n",
      "4      69.00  \n"
     ]
    }
   ],
   "source": [
    "df['MESESFVC1'] = df['MESESFVC1'].astype(float)\n",
    "\n",
    "imputer = SimpleImputer(strategy='mean')  #  Estrategia da media para imputar\n",
    "# Imputar os valores de FVC e Meses para as colunas \n",
    "df[['FVC2', 'MESESFVC2', 'FVC3', 'MESESFVC3', 'FVC4', 'MESESFVC4']] = imputer.fit_transform(df[['FVC2', 'MESESFVC2', 'FVC3', 'MESESFVC3','FVC4', 'MESESFVC4']])\n",
    "\n",
    "print(\"\\nVerificação de dados depois a imputação:\")\n",
    "print(df[['FVC2', 'MESESFVC2', 'FVC3', 'MESESFVC3', 'FVC4', 'MESESFVC4']].isnull().sum())\n",
    "\n",
    "# Vista previa de los datos imputados\n",
    "print(\"\\nVisualização do DataFrame:\")\n",
    "print(df.head())"
   ]
  },
  {
   "cell_type": "markdown",
   "id": "0a12de54-069a-420b-9642-3b581b81e5ec",
   "metadata": {},
   "source": [
    "***Etapa 3: Modificar o formato do conjunto de dados***  "
   ]
  },
  {
   "cell_type": "code",
   "execution_count": 67,
   "id": "4b66785f-4f29-4cce-ae7c-37b0611757b0",
   "metadata": {},
   "outputs": [
    {
     "name": "stdout",
     "output_type": "stream",
     "text": [
      "    PACIENTE Medição         FVC       MESES\n",
      "40        61    FVC1   56.000000    2.000000\n",
      "41        62    FVC1   97.000000   14.000000\n",
      "42        63    FVC1   82.000000   -2.000000\n",
      "43        64    FVC1   78.000000   -3.000000\n",
      "44        65    FVC1   60.000000  -22.000000\n",
      "45        66    FVC1   94.000000  -23.000000\n",
      "46        68    FVC1   70.000000  -71.000000\n",
      "47        71    FVC1   76.000000   -5.000000\n",
      "48        72    FVC1   67.000000    0.000000\n",
      "49        74    FVC1   71.000000  -32.000000\n",
      "50        75    FVC1   85.000000  -12.000000\n",
      "51        76    FVC1  104.000000  -35.000000\n",
      "52        77    FVC1   48.000000   -1.000000\n",
      "53        78    FVC1   72.330000  -23.000000\n",
      "54        79    FVC1   33.000000   -6.000000\n",
      "55         2    FVC2   35.000000  172.000000\n",
      "56         3    FVC2   38.000000  130.000000\n",
      "57         4    FVC2   44.700000  141.000000\n",
      "58         7    FVC2   57.000000   95.000000\n",
      "59         8    FVC2   75.000000   60.000000\n",
      "60         9    FVC2   63.890204   15.795918\n"
     ]
    }
   ],
   "source": [
    "# Reformatamos os dados para ter uma linha por medição de FVC\n",
    "fvc_colunas = ['FVC1', 'FVC2',  'FVC3',  'FVC4']\n",
    "meses_colunas = ['MESESFVC1', 'MESESFVC2', 'MESESFVC3', 'MESESFVC4']\n",
    "\n",
    "# convertemos os dados para que cada medição de FVC tenha sua própria linha\n",
    "treino_df = pd.melt(df,\n",
    "                     id_vars=['PACIENTE'],  # Colunas de identificação do paciente\n",
    "                     value_vars=fvc_colunas,  # Colunas de medidas de FVC\n",
    "                     var_name='Medição',  # Nome da coluna indicando se é FVC1, FVC2...\n",
    "                     value_name='FVC')  # Valor de medição de FVC\n",
    "\n",
    "# Ahora añadimos los valores de tiempo para cada medición\n",
    "treino_df['MESES'] = pd.melt(df,\n",
    "                               id_vars=['PACIENTE'],\n",
    "                               value_vars=meses_colunas,\n",
    "                               value_name='MESES')['MESES']\n",
    "\n",
    "\n",
    "# Imprimir algumas filhas dos dados para confirmar conversão \n",
    "print(treino_df.iloc[40:61])\n"
   ]
  },
  {
   "cell_type": "markdown",
   "id": "e9bcc73a-7e94-41fd-85e8-94836c48d29a",
   "metadata": {},
   "source": [
    "***Etapa 4: validação cruzada***"
   ]
  },
  {
   "cell_type": "code",
   "execution_count": 77,
   "id": "5842663f-f6e4-4db6-95cd-9688677c1e0d",
   "metadata": {},
   "outputs": [
    {
     "name": "stdout",
     "output_type": "stream",
     "text": [
      "     PACIENTE   MESES        FVC   FVC_pred\n",
      "1           3  122.00  39.000000  55.710886\n",
      "6          10   24.00  41.000000  66.804578\n",
      "11         16   10.00  58.000000  68.389391\n",
      "16         23  -12.00  75.000000  70.879812\n",
      "21         32  -21.00  68.000000  71.898620\n",
      "..        ...     ...        ...        ...\n",
      "198        50   45.00  65.000000  64.544050\n",
      "203        57   -3.00  43.000000  68.489534\n",
      "206        62   36.25  66.316875  65.263279\n",
      "208        64   36.25  66.316875  65.263279\n",
      "213        72   36.25  66.316875  65.263279\n",
      "\n",
      "[220 rows x 4 columns]\n"
     ]
    }
   ],
   "source": [
    "# Inicializando a validação cruzada com 5 folds\n",
    "n_splits = 5\n",
    "kf = GroupKFold(n_splits=n_splits)\n",
    "\n",
    "# Lista para armazenar os resultados de cada fold\n",
    "resultados = []\n",
    "\n",
    "# Realizando a validação cruzada hierárquica\n",
    "for train_index, val_index in kf.split(treino_df, groups=treino_df['PACIENTE']):\n",
    "    # Dividindo os dados entre treino e validação para este fold\n",
    "    treino_fold = treino_df.iloc[train_index]\n",
    "    val_fold = treino_df.iloc[val_index]\n",
    "    \n",
    "    # Ajustando o modelo com os dados de treino\n",
    "    model = mixedlm(\"FVC ~ MESES\", treino_fold, groups=treino_fold[\"PACIENTE\"])\n",
    "    result = model.fit()\n",
    "    \n",
    "    # Avaliando o modelo com os dados de validação (usando os efeitos fixos)\n",
    "    intercepto = result.fe_params['Intercept']\n",
    "    pendiente = result.fe_params['MESES']\n",
    "    \n",
    "    # Predizendo o FVC para os dados de validação\n",
    "    val_fold = val_fold.copy()  # Criar uma cópia explícita\n",
    "    val_fold['FVC_pred'] = intercepto + pendiente * val_fold['MESES']\n",
    "    \n",
    "    # Armazenando os resultados deste fold\n",
    "    resultados.append(val_fold)\n",
    "\n",
    "# Concatenando os resultados de todas as iterações\n",
    "resultado_final = pd.concat(resultados)\n",
    "\n",
    "# Exibindo os resultados finais de todas as previsões\n",
    "print(resultado_final[['PACIENTE', 'MESES', 'FVC', 'FVC_pred']])"
   ]
  },
  {
   "cell_type": "markdown",
   "id": "cd9744ab-9e66-4df1-a811-86d3549fed32",
   "metadata": {},
   "source": [
    "***Etapa 5: Ajustando o modelo***"
   ]
  },
  {
   "cell_type": "code",
   "execution_count": 92,
   "id": "2d8a711d-88ea-44f5-a898-b1b1dcee7d96",
   "metadata": {},
   "outputs": [
    {
     "name": "stdout",
     "output_type": "stream",
     "text": [
      "         Mixed Linear Model Regression Results\n",
      "=======================================================\n",
      "Model:            MixedLM Dependent Variable: FVC      \n",
      "No. Observations: 220     Method:             REML     \n",
      "No. Groups:       55      Scale:              73.1083  \n",
      "Min. group size:  4       Log-Likelihood:     -857.2108\n",
      "Max. group size:  4       Converged:          Yes      \n",
      "Mean group size:  4.0                                  \n",
      "-------------------------------------------------------\n",
      "             Coef.  Std.Err.   z    P>|z| [0.025 0.975]\n",
      "-------------------------------------------------------\n",
      "Intercept    67.275    2.268 29.665 0.000 62.830 71.720\n",
      "MESES        -0.103    0.031 -3.333 0.001 -0.163 -0.042\n",
      "Group Var   242.201    6.781                           \n",
      "=======================================================\n",
      "\n"
     ]
    }
   ],
   "source": [
    "model2 = mixedlm(\"FVC ~ MESES\", treino_df, groups=treino_df[\"PACIENTE\"])\n",
    "result2 = model2.fit()\n",
    "print (result2.summary())"
   ]
  },
  {
   "cell_type": "markdown",
   "id": "20e84185-0697-4ee6-bb32-446e5c0f47e4",
   "metadata": {},
   "source": [
    "O modelo mostra que ***MESES*** tem um efeito negativo e significativo na ***CVF*** (implicando que à medida que os meses aumentam, o valor da CVF diminui). Além disso, o modelo parece adequado, pois convergiu corretamente e os coeficientes são estatisticamente significativos (valor de p < 0,05)."
   ]
  },
  {
   "cell_type": "code",
   "execution_count": 105,
   "id": "8f373f23-bbdb-48de-b0bb-96ab7dc4f7f2",
   "metadata": {},
   "outputs": [
    {
     "name": "stdout",
     "output_type": "stream",
     "text": [
      "R² Marginal: 0.0003\n",
      "R² Condicional: 0.7685\n"
     ]
    }
   ],
   "source": [
    "#VALIDANDO MODELO \n",
    "# Variância residual (escala) do modelo\n",
    "var_residual = result2.scale\n",
    "\n",
    "# Variância dos efeitos aleatórios (Var. do Grupo)\n",
    "var_aleatoria = result2.cov_re.iloc[0, 0]  \n",
    "\n",
    "# Variância total = Variância residual + Variância aleatória\n",
    "var_total = var_residual + var_aleatoria\n",
    "\n",
    "# Variância explicada pelos efeitos fixos (marginal)\n",
    "var_fixos = abs(result2.fe_params['MESES'])  # Coef. de MESES\n",
    "\n",
    "# Cálculo do R² marginal e condicional\n",
    "r2_marginal = var_fixos / var_total\n",
    "r2_condicional = (var_fixos + var_aleatoria) / var_total\n",
    "\n",
    "print(f\"R² Marginal: {r2_marginal:.4f}\")\n",
    "print(f\"R² Condicional: {r2_condicional:.4f}\")"
   ]
  },
  {
   "cell_type": "markdown",
   "id": "b1c33743-ed42-4965-8628-8128dfa391ce",
   "metadata": {},
   "source": [
    "*O R² marginal representa a variância explicada apenas pelos efeitos fixos do modelo, o valor de 0,0003 indica que variáveis ​​fixas (meses) explicam muito pouco da variabilidade da CVF. O R² condicional, que inclui efeitos fixos e aleatórios, é de 0,7685, mostrando que a maior parte da variabilidade na CVF é captada por diferenças entre pacientes (efeitos aleatórios). Isto sugere que as características individuais dos pacientes têm um peso importante no modelo*"
   ]
  },
  {
   "cell_type": "markdown",
   "id": "0cc1c8ac-f74e-4f0d-a92c-d65b9fd03d86",
   "metadata": {},
   "source": [
    "***Etapa 6: Previsão CALCULO DO TEMPO FVC 100***"
   ]
  },
  {
   "cell_type": "code",
   "execution_count": 98,
   "id": "a2effbe9-b004-4106-9aea-8b79512f77c5",
   "metadata": {},
   "outputs": [
    {
     "name": "stdout",
     "output_type": "stream",
     "text": [
      "Tempo estimado quando FVC = 100: -318.17444902709315 meses\n",
      "     PACIENTE         FVC   MESES  tempo_fvc_100\n",
      "0           2   48.000000  161.00   -1047.238069\n",
      "1           3   39.000000  122.00   -1118.358687\n",
      "2           4   54.000000  132.00    -991.810239\n",
      "3           7   57.000000   86.00    -980.992544\n",
      "4           8   79.000000   46.00    -905.220867\n",
      "..        ...         ...     ...            ...\n",
      "215        75   66.316875   36.25    -978.547584\n",
      "216        76  104.000000  -14.00    -651.743373\n",
      "217        77   66.316875   36.25   -1155.910295\n",
      "218        78   66.316875   36.25    -960.182454\n",
      "219        79   66.316875   36.25   -1242.285534\n",
      "\n",
      "[220 rows x 4 columns]\n"
     ]
    }
   ],
   "source": [
    "# Passo 5: Cálculo do tempo quando FVC atinge 100\n",
    "# Aqui calculamos o tempo estimado para FVC atingir 100, usando os efeitos fixos\n",
    "intercepto = result2.fe_params['Intercept']  # Coeficiente do intercepto\n",
    "pendiente = result2.fe_params['MESES']      # Coeficiente do mês\n",
    "\n",
    "# Calculando o tempo quando FVC chega a 100 para todos os pacientes\n",
    "tempo_fvc_100 = (100 - intercepto) / pendiente\n",
    "print(f\"Tempo estimado quando FVC = 100: {tempo_fvc_100} meses\")\n",
    "\n",
    "# Passo 6: Predição para cada paciente\n",
    "# Calculando o tempo para FVC = 100 para cada paciente individualmente\n",
    "tempo_fvc_100_pacientes = []\n",
    "\n",
    "for PACIENTE, PACIENTE_df in treino_df.groupby('PACIENTE'):\n",
    "    intercepto_PACIENTE = result2.random_effects[PACIENTE][\"Group\"]\n",
    "    tempo_fvc_100_paciente = (100 - intercepto_PACIENTE) / pendiente\n",
    "    tempo_fvc_100_pacientes.append((PACIENTE, tempo_fvc_100_paciente))\n",
    "\n",
    "# Convertendo os resultados para um DataFrame\n",
    "tempo_fvc_100_df = pd.DataFrame(tempo_fvc_100_pacientes, columns=['PACIENTE', 'tempo_fvc_100'])\n",
    "\n",
    "# Unindo os resultados com os dados de treino\n",
    "treino_resultados = treino_df.merge(tempo_fvc_100_df, on='PACIENTE', how='left')\n",
    "\n",
    "# Imprimindo os resultados\n",
    "print(treino_resultados[['PACIENTE', 'FVC', 'MESES', 'tempo_fvc_100']])\n"
   ]
  },
  {
   "cell_type": "code",
   "execution_count": 108,
   "id": "5912cddb-d3ce-4ab0-a4be-3458323ddced",
   "metadata": {},
   "outputs": [
    {
     "data": {
      "image/png": "[encoded data removed]",
      "text/plain": [
       "<Figure size 1000x600 with 1 Axes>"
      ]
     },
     "metadata": {},
     "output_type": "display_data"
    }
   ],
   "source": [
    "# Criando o gráfico para visualizar melhor os dados \n",
    "plt.figure(figsize=(10, 6))\n",
    "pacientes_exibidos = treino_resultados['PACIENTE'].unique()[:10]\n",
    "for PACIENTE in pacientes_exibidos:\n",
    "    paciente_data = treino_resultados[treino_resultados['PACIENTE'] == PACIENTE]\n",
    "    plt.plot(paciente_data['MESES'], paciente_data['FVC'], label=f'Paciente {PACIENTE}')\n",
    "    tempo_fvc_100 = paciente_data['tempo_fvc_100'].iloc[0]\n",
    "    if not np.isnan(tempo_fvc_100):\n",
    "        plt.scatter(tempo_fvc_100, 100, color='red', marker='x')  # Marca o ponto onde FVC atinge 100\n",
    "\n",
    "plt.axhline(100, color='green', linestyle='--', label='FVC = 100')\n",
    "plt.xlabel('Meses desde a biópsia')\n",
    "plt.ylabel('FVC')\n",
    "plt.title('Previsão do tempo quando FVC atinge 100 para cada paciente')\n",
    "plt.legend(loc='upper left', fontsize=8, bbox_to_anchor=(1, 1))  # Coloca a legenda à direita\n",
    "plt.grid(True)\n",
    "plt.tight_layout()\n",
    "plt.show()"
   ]
  }
 ],
 "metadata": {
  "kernelspec": {
   "display_name": "Python 3 (ipykernel)",
   "language": "python",
   "name": "python3"
  },
  "language_info": {
   "codemirror_mode": {
    "name": "ipython",
    "version": 3
   },
   "file_extension": ".py",
   "mimetype": "text/x-python",
   "name": "python",
   "nbconvert_exporter": "python",
   "pygments_lexer": "ipython3",
   "version": "3.12.4"
  }
 },
 "nbformat": 4,
 "nbformat_minor": 5
}
